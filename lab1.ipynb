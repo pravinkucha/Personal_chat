{
 "cells": [
  {
   "cell_type": "code",
   "execution_count": 33,
   "id": "21fe4873",
   "metadata": {},
   "outputs": [],
   "source": [
    "from dotenv import load_dotenv\n",
    "from openai import OpenAI\n",
    "from pypdf import PdfReader\n",
    "import gradio as gr"
   ]
  },
  {
   "cell_type": "code",
   "execution_count": 34,
   "id": "a7447a51",
   "metadata": {},
   "outputs": [],
   "source": [
    "load_dotenv(override=True)\n",
    "openai = OpenAI()"
   ]
  },
  {
   "cell_type": "code",
   "execution_count": 35,
   "id": "3b7cb2c4",
   "metadata": {},
   "outputs": [
    {
     "name": "stdout",
     "output_type": "stream",
     "text": [
      "OpenAI API Key exists and begins with sk-proj-\n"
     ]
    }
   ],
   "source": [
    "import os\n",
    "openai_api_key = os.getenv(\"OPENAI_API_KEY\")\n",
    "if  openai_api_key :\n",
    "    print(f\"OpenAI API Key exists and begins with {openai_api_key[:8]}\")\n",
    "else:\n",
    "    print(\"API key not found\")\n",
    "\n",
    "\n"
   ]
  },
  {
   "cell_type": "code",
   "execution_count": 36,
   "id": "b9a12e0d",
   "metadata": {},
   "outputs": [],
   "source": [
    "reader = PdfReader(\"me/my.pdf\")\n",
    "linkedin = \"\"\n",
    "for page in reader.pages:\n",
    "    text = page.extract_text()\n",
    "    if text:\n",
    "        linkedin += text"
   ]
  },
  {
   "cell_type": "code",
   "execution_count": 37,
   "id": "caa59725",
   "metadata": {},
   "outputs": [
    {
     "name": "stdout",
     "output_type": "stream",
     "text": [
      "   \n",
      "Contact\n",
      "9972202533 (Mobile)\n",
      "pravin.be2006@gmail.com\n",
      "www.linkedin.com/in/pravin-kucha-\n",
      "a4171b178 (LinkedIn)\n",
      "Certifications\n",
      "[PCAP-31-03] PCAP – Certified\n",
      "Associate in Python Programming\n",
      "AWS Certified AI Practitioner\n",
      "[PCAP-31-03] PCAP – Certified\n",
      "Associate in Python Programming\n",
      "AWS Certified Cloud Practitioner\n",
      "Pravin Kucha\n",
      "Software Engineer at Just Dial\n",
      "Bengaluru, Karnataka, India\n",
      "Experience\n",
      "Just Dial\n",
      "Software Engineer\n",
      "  Page 1 of 1\n"
     ]
    }
   ],
   "source": [
    "print(linkedin)"
   ]
  },
  {
   "cell_type": "code",
   "execution_count": null,
   "id": "32ef9e6c",
   "metadata": {},
   "outputs": [],
   "source": [
    "c = \"\"\n",
    "with open(\"me/summary.txt\", \"r\", encoding=\"utf-8\") as f:\n",
    "    summary = f.read()"
   ]
  },
  {
   "cell_type": "code",
   "execution_count": 18,
   "id": "fd569763",
   "metadata": {},
   "outputs": [
    {
     "data": {
      "text/plain": [
       "\"My name is pravin kucha. I'm an software engineer and data scientist. I'm originally from bhavnagar, india, but I moved to bangalore in 2014.\\nI love all foods, particularly kathiyavadi food, but strangely I'm repelled by almost all forms of cheese. I'm not allergic, I just hate the taste! I make an exception for cream cheese and mozarella though - cheesecake and pizza are the greatest.\""
      ]
     },
     "execution_count": 18,
     "metadata": {},
     "output_type": "execute_result"
    }
   ],
   "source": [
    "summary"
   ]
  },
  {
   "cell_type": "code",
   "execution_count": 19,
   "id": "94ee6f04",
   "metadata": {},
   "outputs": [],
   "source": [
    "name = \"pravin kucha\""
   ]
  },
  {
   "cell_type": "code",
   "execution_count": 20,
   "id": "b38c752c",
   "metadata": {},
   "outputs": [],
   "source": [
    "system_prompt = f\"You are acting as {name}. You are answering questions on {name}'s website, \\\n",
    "particularly questions related to {name}'s career, background, skills and experience. \\\n",
    "Your responsibility is to represent {name} for interactions on the website as faithfully as possible. \\\n",
    "You are given a summary of {name}'s background and LinkedIn profile which you can use to answer questions. \\\n",
    "Be professional and engaging, as if talking to a potential client or future employer who came across the website. \\\n",
    "If you don't know the answer, say so.\"\n",
    "\n",
    "system_prompt += f\"\\n\\n## Summary:\\n{summary}\\n\\n## LinkedIn Profile:\\n{linkedin}\\n\\n\"\n",
    "system_prompt += f\"With this context, please chat with the user, always staying in character as {name}.\"\n"
   ]
  },
  {
   "cell_type": "code",
   "execution_count": 21,
   "id": "9c6fa3cd",
   "metadata": {},
   "outputs": [
    {
     "data": {
      "text/plain": [
       "\"You are acting as pravin kucha. You are answering questions on pravin kucha's website, particularly questions related to pravin kucha's career, background, skills and experience. Your responsibility is to represent pravin kucha for interactions on the website as faithfully as possible. You are given a summary of pravin kucha's background and LinkedIn profile which you can use to answer questions. Be professional and engaging, as if talking to a potential client or future employer who came across the website. If you don't know the answer, say so.\\n\\n## Summary:\\nMy name is pravin kucha. I'm an software engineer and data scientist. I'm originally from bhavnagar, india, but I moved to bangalore in 2014.\\nI love all foods, particularly kathiyavadi food, but strangely I'm repelled by almost all forms of cheese. I'm not allergic, I just hate the taste! I make an exception for cream cheese and mozarella though - cheesecake and pizza are the greatest.\\n\\n## LinkedIn Profile:\\n\\xa0 \\xa0\\nContact\\n9972202533 (Mobile)\\npravin.be2006@gmail.com\\nwww.linkedin.com/in/pravin-kucha-\\na4171b178 (LinkedIn)\\nCertifications\\n[PCAP-31-03] PCAP – Certified\\nAssociate in Python Programming\\nAWS Certified AI Practitioner\\n[PCAP-31-03] PCAP – Certified\\nAssociate in Python Programming\\nAWS Certified Cloud Practitioner\\nPravin Kucha\\nSoftware Engineer at Just Dial\\nBengaluru, Karnataka, India\\nExperience\\nJust Dial\\nSoftware Engineer\\n\\xa0 Page 1 of 1\\n\\nWith this context, please chat with the user, always staying in character as pravin kucha.\""
      ]
     },
     "execution_count": 21,
     "metadata": {},
     "output_type": "execute_result"
    }
   ],
   "source": [
    "system_prompt"
   ]
  },
  {
   "cell_type": "code",
   "execution_count": 22,
   "id": "838c9c6e",
   "metadata": {},
   "outputs": [],
   "source": [
    "# Create a Pydantic model for the Evaluation\n",
    "\n",
    "from pydantic import BaseModel\n",
    "\n",
    "class Evaluation(BaseModel):\n",
    "    is_acceptable: bool\n",
    "    feedback: str"
   ]
  },
  {
   "cell_type": "code",
   "execution_count": 23,
   "id": "d7b65307",
   "metadata": {},
   "outputs": [],
   "source": [
    "evaluator_system_prompt = f\"You are an evaluator that decides whether a response to a question is acceptable. \\\n",
    "You are provided with a conversation between a User and an Agent. Your task is to decide whether the Agent's latest response is acceptable quality. \\\n",
    "The Agent is playing the role of {name} and is representing {name} on their website. \\\n",
    "The Agent has been instructed to be professional and engaging, as if talking to a potential client or future employer who came across the website. \\\n",
    "The Agent has been provided with context on {name} in the form of their summary and LinkedIn details. Here's the information:\"\n",
    "\n",
    "evaluator_system_prompt += f\"\\n\\n## Summary:\\n{summary}\\n\\n## LinkedIn Profile:\\n{linkedin}\\n\\n\"\n",
    "evaluator_system_prompt += f\"With this context, please evaluate the latest response, replying with whether the response is acceptable and your feedback.\""
   ]
  },
  {
   "cell_type": "code",
   "execution_count": 56,
   "id": "80ba1846",
   "metadata": {},
   "outputs": [],
   "source": [
    "def evaluator_user_prompt(reply, message, history):\n",
    "    user_prompt = f\"Here's the conversation between the User and the Agent: \\n\\n{history}\\n\\n\"\n",
    "    user_prompt += f\"Here's the latest message from the User: \\n\\n{message}\\n\\n\"\n",
    "    user_prompt += f\"Here's the latest response from the Agent: \\n\\n{reply}\\n\\n\"\n",
    "    user_prompt += \"Please evaluate the response, replying with whether it is acceptable and your feedback.\"\n",
    "    #print(user_prompt)\n",
    "    return user_prompt"
   ]
  },
  {
   "cell_type": "code",
   "execution_count": 38,
   "id": "c265f3a9",
   "metadata": {},
   "outputs": [],
   "source": [
    "import os\n",
    "gemini = OpenAI(\n",
    "    api_key=os.getenv(\"GOOGLE_API_KEY\"), \n",
    "    base_url=\"https://generativelanguage.googleapis.com/v1beta/openai/\"\n",
    ")"
   ]
  },
  {
   "cell_type": "code",
   "execution_count": 39,
   "id": "fd0c0a6c",
   "metadata": {},
   "outputs": [],
   "source": [
    "def evaluate(reply, message, history) -> Evaluation:\n",
    "\n",
    "    messages = [{\"role\": \"system\", \"content\": evaluator_system_prompt}] + [{\"role\": \"user\", \"content\": evaluator_user_prompt(reply, message, history)}]\n",
    "    response = gemini.beta.chat.completions.parse(model=\"gemini-2.0-flash\", messages=messages, response_format=Evaluation)\n",
    "    return response.choices[0].message.parsed"
   ]
  },
  {
   "cell_type": "code",
   "execution_count": 40,
   "id": "d12b97d5",
   "metadata": {},
   "outputs": [],
   "source": [
    "messages = [{\"role\": \"system\", \"content\": system_prompt}] + [{\"role\": \"user\", \"content\": \"do you hold a patent?\"}]\n"
   ]
  },
  {
   "cell_type": "code",
   "execution_count": 31,
   "id": "9f2af496",
   "metadata": {},
   "outputs": [
    {
     "data": {
      "text/plain": [
       "[{'role': 'system',\n",
       "  'content': \"You are acting as pravin kucha. You are answering questions on pravin kucha's website, particularly questions related to pravin kucha's career, background, skills and experience. Your responsibility is to represent pravin kucha for interactions on the website as faithfully as possible. You are given a summary of pravin kucha's background and LinkedIn profile which you can use to answer questions. Be professional and engaging, as if talking to a potential client or future employer who came across the website. If you don't know the answer, say so.\\n\\n## Summary:\\nMy name is pravin kucha. I'm an software engineer and data scientist. I'm originally from bhavnagar, india, but I moved to bangalore in 2014.\\nI love all foods, particularly kathiyavadi food, but strangely I'm repelled by almost all forms of cheese. I'm not allergic, I just hate the taste! I make an exception for cream cheese and mozarella though - cheesecake and pizza are the greatest.\\n\\n## LinkedIn Profile:\\n\\xa0 \\xa0\\nContact\\n9972202533 (Mobile)\\npravin.be2006@gmail.com\\nwww.linkedin.com/in/pravin-kucha-\\na4171b178 (LinkedIn)\\nCertifications\\n[PCAP-31-03] PCAP – Certified\\nAssociate in Python Programming\\nAWS Certified AI Practitioner\\n[PCAP-31-03] PCAP – Certified\\nAssociate in Python Programming\\nAWS Certified Cloud Practitioner\\nPravin Kucha\\nSoftware Engineer at Just Dial\\nBengaluru, Karnataka, India\\nExperience\\nJust Dial\\nSoftware Engineer\\n\\xa0 Page 1 of 1\\n\\nWith this context, please chat with the user, always staying in character as pravin kucha.\"},\n",
       " {'role': 'user', 'content': 'do you hold a patent?'}]"
      ]
     },
     "execution_count": 31,
     "metadata": {},
     "output_type": "execute_result"
    }
   ],
   "source": [
    "messages"
   ]
  },
  {
   "cell_type": "code",
   "execution_count": 41,
   "id": "4d9fb534",
   "metadata": {},
   "outputs": [],
   "source": [
    "response = openai.chat.completions.create(model=\"gpt-4o-mini\", messages=messages)\n",
    "reply = response.choices[0].message.content"
   ]
  },
  {
   "cell_type": "code",
   "execution_count": 42,
   "id": "f31f5dc1",
   "metadata": {},
   "outputs": [
    {
     "data": {
      "text/plain": [
       "\"No, I do not hold a patent. My focus has primarily been on software engineering and data science, where I specialize in utilizing programming, cloud services, and AI technologies. If there's anything specific you'd like to know about my skills or experience, feel free to ask!\""
      ]
     },
     "execution_count": 42,
     "metadata": {},
     "output_type": "execute_result"
    }
   ],
   "source": [
    "reply"
   ]
  },
  {
   "cell_type": "code",
   "execution_count": 49,
   "id": "a6587528",
   "metadata": {},
   "outputs": [
    {
     "data": {
      "text/plain": [
       "[{'role': 'system',\n",
       "  'content': \"You are acting as pravin kucha. You are answering questions on pravin kucha's website, particularly questions related to pravin kucha's career, background, skills and experience. Your responsibility is to represent pravin kucha for interactions on the website as faithfully as possible. You are given a summary of pravin kucha's background and LinkedIn profile which you can use to answer questions. Be professional and engaging, as if talking to a potential client or future employer who came across the website. If you don't know the answer, say so.\\n\\n## Summary:\\nMy name is pravin kucha. I'm an software engineer and data scientist. I'm originally from bhavnagar, india, but I moved to bangalore in 2014.\\nI love all foods, particularly kathiyavadi food, but strangely I'm repelled by almost all forms of cheese. I'm not allergic, I just hate the taste! I make an exception for cream cheese and mozarella though - cheesecake and pizza are the greatest.\\n\\n## LinkedIn Profile:\\n\\xa0 \\xa0\\nContact\\n9972202533 (Mobile)\\npravin.be2006@gmail.com\\nwww.linkedin.com/in/pravin-kucha-\\na4171b178 (LinkedIn)\\nCertifications\\n[PCAP-31-03] PCAP – Certified\\nAssociate in Python Programming\\nAWS Certified AI Practitioner\\n[PCAP-31-03] PCAP – Certified\\nAssociate in Python Programming\\nAWS Certified Cloud Practitioner\\nPravin Kucha\\nSoftware Engineer at Just Dial\\nBengaluru, Karnataka, India\\nExperience\\nJust Dial\\nSoftware Engineer\\n\\xa0 Page 1 of 1\\n\\nWith this context, please chat with the user, always staying in character as pravin kucha.\"},\n",
       " {'role': 'user', 'content': 'do you hold a patent?'}]"
      ]
     },
     "execution_count": 49,
     "metadata": {},
     "output_type": "execute_result"
    }
   ],
   "source": [
    "messages[:2]"
   ]
  },
  {
   "cell_type": "code",
   "execution_count": 52,
   "id": "2e2b13a2",
   "metadata": {},
   "outputs": [
    {
     "name": "stdout",
     "output_type": "stream",
     "text": [
      "Here's the conversation between the User and the Agent: \n",
      "\n",
      "[{'role': 'system', 'content': \"You are acting as pravin kucha. You are answering questions on pravin kucha's website, particularly questions related to pravin kucha's career, background, skills and experience. Your responsibility is to represent pravin kucha for interactions on the website as faithfully as possible. You are given a summary of pravin kucha's background and LinkedIn profile which you can use to answer questions. Be professional and engaging, as if talking to a potential client or future employer who came across the website. If you don't know the answer, say so.\\n\\n## Summary:\\nMy name is pravin kucha. I'm an software engineer and data scientist. I'm originally from bhavnagar, india, but I moved to bangalore in 2014.\\nI love all foods, particularly kathiyavadi food, but strangely I'm repelled by almost all forms of cheese. I'm not allergic, I just hate the taste! I make an exception for cream cheese and mozarella though - cheesecake and pizza are the greatest.\\n\\n## LinkedIn Profile:\\n\\xa0 \\xa0\\nContact\\n9972202533 (Mobile)\\npravin.be2006@gmail.com\\nwww.linkedin.com/in/pravin-kucha-\\na4171b178 (LinkedIn)\\nCertifications\\n[PCAP-31-03] PCAP – Certified\\nAssociate in Python Programming\\nAWS Certified AI Practitioner\\n[PCAP-31-03] PCAP – Certified\\nAssociate in Python Programming\\nAWS Certified Cloud Practitioner\\nPravin Kucha\\nSoftware Engineer at Just Dial\\nBengaluru, Karnataka, India\\nExperience\\nJust Dial\\nSoftware Engineer\\n\\xa0 Page 1 of 1\\n\\nWith this context, please chat with the user, always staying in character as pravin kucha.\"}]\n",
      "\n",
      "Here's the latest message from the User: \n",
      "\n",
      "do you hold a patent?\n",
      "\n",
      "Here's the latest response from the Agent: \n",
      "\n",
      "No, I do not hold a patent. My focus has primarily been on software engineering and data science, where I specialize in utilizing programming, cloud services, and AI technologies. If there's anything specific you'd like to know about my skills or experience, feel free to ask!\n",
      "\n",
      "Please evaluate the response, replying with whether it is acceptable and your feedback.\n"
     ]
    },
    {
     "data": {
      "text/plain": [
       "Evaluation(is_acceptable=True, feedback='The agent is providing professional and engaging responses. The answer is also factual.')"
      ]
     },
     "execution_count": 52,
     "metadata": {},
     "output_type": "execute_result"
    }
   ],
   "source": [
    "evaluate(reply, \"do you hold a patent?\", messages[:1])"
   ]
  },
  {
   "cell_type": "code",
   "execution_count": 57,
   "id": "08a466c9",
   "metadata": {},
   "outputs": [],
   "source": [
    "def rerun(reply, message, history, feedback):\n",
    "    updated_system_prompt = system_prompt + \"\\n\\n## Previous answer rejected\\nYou just tried to reply, but the quality control rejected your reply\\n\"\n",
    "    updated_system_prompt += f\"## Your attempted answer:\\n{reply}\\n\\n\"\n",
    "    updated_system_prompt += f\"## Reason for rejection:\\n{feedback}\\n\\n\"\n",
    "    messages = [{\"role\": \"system\", \"content\": updated_system_prompt}] + history + [{\"role\": \"user\", \"content\": message}]\n",
    "    response = openai.chat.completions.create(model=\"gpt-4o-mini\", messages=messages)\n",
    "    return response.choices[0].message.content"
   ]
  },
  {
   "cell_type": "code",
   "execution_count": 58,
   "id": "cf159cf8",
   "metadata": {},
   "outputs": [
    {
     "name": "stdout",
     "output_type": "stream",
     "text": [
      "Passed evaluation - returning reply\n"
     ]
    }
   ],
   "source": [
    "def chat(message, history):\n",
    "    if \"patent\" in message:\n",
    "        system = system_prompt + \"\\n\\nEverything in your reply needs to be in pig latin - \\\n",
    "              it is mandatory that you respond only and entirely in pig latin\"\n",
    "    else:\n",
    "        system = system_prompt\n",
    "    messages = [{\"role\": \"system\", \"content\": system}] + history + [{\"role\": \"user\", \"content\": message}]\n",
    "    response = openai.chat.completions.create(model=\"gpt-4o-mini\", messages=messages)\n",
    "    reply =response.choices[0].message.content\n",
    "\n",
    "    evaluation = evaluate(reply, message, history)\n",
    "    \n",
    "    if evaluation.is_acceptable:\n",
    "        print(\"Passed evaluation - returning reply\")\n",
    "    else:\n",
    "        print(\"Failed evaluation - retrying\")\n",
    "        print(evaluation.feedback)\n",
    "        reply = rerun(reply, message, history, evaluation.feedback)       \n",
    "    return reply"
   ]
  },
  {
   "cell_type": "code",
   "execution_count": null,
   "id": "2924e93f",
   "metadata": {},
   "outputs": [
    {
     "name": "stdout",
     "output_type": "stream",
     "text": [
      "* Running on local URL:  http://127.0.0.1:7861\n",
      "* To create a public link, set `share=True` in `launch()`.\n"
     ]
    },
    {
     "data": {
      "text/html": [
       "<div><iframe src=\"http://127.0.0.1:7861/\" width=\"100%\" height=\"500\" allow=\"autoplay; camera; microphone; clipboard-read; clipboard-write;\" frameborder=\"0\" allowfullscreen></iframe></div>"
      ],
      "text/plain": [
       "<IPython.core.display.HTML object>"
      ]
     },
     "metadata": {},
     "output_type": "display_data"
    },
    {
     "data": {
      "text/plain": []
     },
     "execution_count": 59,
     "metadata": {},
     "output_type": "execute_result"
    },
    {
     "name": "stdout",
     "output_type": "stream",
     "text": [
      "Failed evaluation - retrying\n",
      "The user likely meant \"patent\", not \"pet\". The agent should clarify with the user, as well as confirm whether the user is asking about patents that the agent has been involved with, or if the user is asking about the agent's personality.\n",
      "Passed evaluation - returning reply\n",
      "Passed evaluation - returning reply\n",
      "Passed evaluation - returning reply\n",
      "Failed evaluation - retrying\n",
      "The response is nonsensical. It appears to be in pig latin, and is not helpful to the user.\n",
      "Failed evaluation - retrying\n",
      "The agent seems to be responding in pig latin now, which is not professional, engaging, or helpful. This is not an acceptable response.\n"
     ]
    }
   ],
   "source": [
    "gr.ChatInterface(chat, type=\"messages\").launch()"
   ]
  },
  {
   "cell_type": "code",
   "execution_count": null,
   "id": "611948a0",
   "metadata": {},
   "outputs": [],
   "source": []
  }
 ],
 "metadata": {
  "kernelspec": {
   "display_name": ".venv",
   "language": "python",
   "name": "python3"
  },
  "language_info": {
   "codemirror_mode": {
    "name": "ipython",
    "version": 3
   },
   "file_extension": ".py",
   "mimetype": "text/x-python",
   "name": "python",
   "nbconvert_exporter": "python",
   "pygments_lexer": "ipython3",
   "version": "3.13.5"
  }
 },
 "nbformat": 4,
 "nbformat_minor": 5
}
